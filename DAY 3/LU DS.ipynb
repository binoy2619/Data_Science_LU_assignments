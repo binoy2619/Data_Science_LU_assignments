{
 "cells": [
  {
   "cell_type": "code",
   "execution_count": 4,
   "metadata": {},
   "outputs": [
    {
     "data": {
      "text/plain": [
       "array([  6,   9,  12,  15,  18,  21,  24,  27,  30,  33,  36,  39,  42,\n",
       "        45,  48,  51,  54,  57,  60,  63,  66,  69,  72,  75,  78,  81,\n",
       "        84,  87,  90,  93,  96,  99, 102, 105, 108, 111, 114, 117, 120,\n",
       "       123, 126, 129, 132, 135, 138, 141, 144, 147, 150])"
      ]
     },
     "execution_count": 4,
     "metadata": {},
     "output_type": "execute_result"
    }
   ],
   "source": [
    "# Q1\n",
    "import numpy as np\n",
    "\n",
    "num = np.arange(2,51)*3\n",
    "num"
   ]
  },
  {
   "cell_type": "code",
   "execution_count": 11,
   "metadata": {},
   "outputs": [
    {
     "name": "stdout",
     "output_type": "stream",
     "text": [
      "1\n",
      "5\n",
      "2\n",
      "3\n",
      "5\n",
      "63\n",
      "2\n",
      "45\n",
      "76\n",
      "8\n"
     ]
    },
    {
     "data": {
      "text/plain": [
       "array([ 5,  6, 47, 68, 84])"
      ]
     },
     "execution_count": 11,
     "metadata": {},
     "output_type": "execute_result"
    }
   ],
   "source": [
    "# Q2\n",
    "l1 = []\n",
    "l2 = []\n",
    "for i in range(5):\n",
    "    l1.append(int(input()))\n",
    "    l2.append(int(input()))\n",
    "arr = np.array(l1)\n",
    "arr1 = np.array(l2)\n",
    "s = arr+arr1\n",
    "np.sort(s)"
   ]
  },
  {
   "cell_type": "code",
   "execution_count": 16,
   "metadata": {},
   "outputs": [
    {
     "name": "stdout",
     "output_type": "stream",
     "text": [
      "2\n",
      "(3, 3)\n",
      "9\n"
     ]
    }
   ],
   "source": [
    "# Q3\n",
    "arr = np.array([[1,2,3],\n",
    "               [4,5,6],\n",
    "               [7,8,9]])\n",
    "print(arr.ndim)\n",
    "print(arr.shape)\n",
    "print(arr.size)"
   ]
  },
  {
   "cell_type": "code",
   "execution_count": 21,
   "metadata": {},
   "outputs": [
    {
     "name": "stdout",
     "output_type": "stream",
     "text": [
      "[ 1  2  3  4  5  6 67  7  8  9]\n",
      "1\n",
      "\n",
      "[[ 1  2]\n",
      " [ 3  4]\n",
      " [ 5  6]\n",
      " [67  7]\n",
      " [ 8  9]]\n",
      "2\n"
     ]
    }
   ],
   "source": [
    "# Q4\n",
    "arr = np.array([1,2,3,4,5,6,67,7,8,9])\n",
    "print(arr)\n",
    "print(arr.ndim)\n",
    "print()\n",
    "arr1 = np.reshape(arr,(5,2))\n",
    "print(arr1)\n",
    "print(arr1.ndim)"
   ]
  },
  {
   "cell_type": "code",
   "execution_count": 32,
   "metadata": {},
   "outputs": [
    {
     "name": "stdout",
     "output_type": "stream",
     "text": [
      "arr  [ 1  4  9 16]\n",
      "arr1  [25 36 49 64]\n",
      "\n",
      "[[ 1  4  9 16]\n",
      " [25 36 49 64]]\n",
      "\n",
      "[ 1  4  9 16 25 36 49 64]\n"
     ]
    }
   ],
   "source": [
    "# Q5\n",
    "arr = np.array([1,2,3,4])\n",
    "arr1 = np.array([5,6,7,8])\n",
    "arr = np.square(arr)\n",
    "arr1 = np.square(arr1)\n",
    "print(\"arr \",arr)\n",
    "print(\"arr1 \",arr1)\n",
    "print()\n",
    "print(np.vstack((arr,arr1)))\n",
    "print()\n",
    "print(np.hstack((arr,arr1)))\n"
   ]
  },
  {
   "cell_type": "code",
   "execution_count": null,
   "metadata": {},
   "outputs": [],
   "source": []
  }
 ],
 "metadata": {
  "kernelspec": {
   "display_name": "Python 3",
   "language": "python",
   "name": "python3"
  },
  "language_info": {
   "codemirror_mode": {
    "name": "ipython",
    "version": 3
   },
   "file_extension": ".py",
   "mimetype": "text/x-python",
   "name": "python",
   "nbconvert_exporter": "python",
   "pygments_lexer": "ipython3",
   "version": "3.7.6"
  }
 },
 "nbformat": 4,
 "nbformat_minor": 4
}
